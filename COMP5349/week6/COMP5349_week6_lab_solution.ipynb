{
  "cells": [
    {
      "cell_type": "code",
      "source": [
        "!pip install pyspark"
      ],
      "metadata": {
        "colab": {
          "base_uri": "https://localhost:8080/"
        },
        "id": "C6nxljb6BxC-",
        "outputId": "c8867ebb-4576-4697-a3b7-2295f1b74659"
      },
      "id": "C6nxljb6BxC-",
      "execution_count": 1,
      "outputs": [
        {
          "output_type": "stream",
          "name": "stdout",
          "text": [
            "Collecting pyspark\n",
            "  Downloading pyspark-3.2.1.tar.gz (281.4 MB)\n",
            "\u001b[K     |████████████████████████████████| 281.4 MB 34 kB/s \n",
            "\u001b[?25hCollecting py4j==0.10.9.3\n",
            "  Downloading py4j-0.10.9.3-py2.py3-none-any.whl (198 kB)\n",
            "\u001b[K     |████████████████████████████████| 198 kB 55.2 MB/s \n",
            "\u001b[?25hBuilding wheels for collected packages: pyspark\n",
            "  Building wheel for pyspark (setup.py) ... \u001b[?25l\u001b[?25hdone\n",
            "  Created wheel for pyspark: filename=pyspark-3.2.1-py2.py3-none-any.whl size=281853642 sha256=6d45448e139daf4d0cbeb87bcb5fc11c70e2955c9d14015c883d7f33d1820bf4\n",
            "  Stored in directory: /root/.cache/pip/wheels/9f/f5/07/7cd8017084dce4e93e84e92efd1e1d5334db05f2e83bcef74f\n",
            "Successfully built pyspark\n",
            "Installing collected packages: py4j, pyspark\n",
            "Successfully installed py4j-0.10.9.3 pyspark-3.2.1\n"
          ]
        }
      ]
    },
    {
      "cell_type": "code",
      "source": [
        "from google.colab import drive\n",
        "drive.mount('/content/drive')"
      ],
      "metadata": {
        "colab": {
          "base_uri": "https://localhost:8080/"
        },
        "id": "c7rgYjgtB0qp",
        "outputId": "c9079c5c-8ee2-4cf0-a1fc-69f961e083b9"
      },
      "id": "c7rgYjgtB0qp",
      "execution_count": 4,
      "outputs": [
        {
          "output_type": "stream",
          "name": "stdout",
          "text": [
            "Mounted at /content/drive\n"
          ]
        }
      ]
    },
    {
      "cell_type": "code",
      "execution_count": 5,
      "id": "english-delhi",
      "metadata": {
        "id": "english-delhi"
      },
      "outputs": [],
      "source": [
        "from pyspark import SparkConf, SparkContext\n",
        "import csv\n",
        "spark_conf = SparkConf()\\\n",
        "        .setAppName(\"Week 6 lab solution\")\n",
        "sc=SparkContext.getOrCreate(spark_conf) "
      ]
    },
    {
      "cell_type": "code",
      "execution_count": 6,
      "id": "rubber-disability",
      "metadata": {
        "id": "rubber-disability"
      },
      "outputs": [],
      "source": [
        "input_path = 'file:///content/drive/MyDrive/comp5349/'\n",
        "movie_file = input_path + \"movies.csv\"\n",
        "text_file = input_path + \"1984_processed.txt\"\n",
        "#movieData = sc.textFile(movie_file)"
      ]
    },
    {
      "cell_type": "markdown",
      "id": "prompt-buffer",
      "metadata": {
        "id": "prompt-buffer"
      },
      "source": [
        "#### Q1. Find the top 5 bigrams in 1984 preprocessed text"
      ]
    },
    {
      "cell_type": "code",
      "source": [
        "def bigram(line):\n",
        "    \"\"\"This function converts line of input text into word level bigram token \n",
        "   \n",
        "    Args:\n",
        "        record (str): A line of input text file\n",
        "    Returns:\n",
        "        a list of word level bigram represented by tuple\n",
        "    \"\"\"\n",
        "    \n",
        "    words = line.strip().split(\" \")\n",
        "    if len(words) < 2:\n",
        "        return []\n",
        "    bigrams = zip(words[:-1], words[1:])\n",
        "    results =[]\n",
        "    for bigram in bigrams:\n",
        "        results.append((bigram,1))\n",
        "    return results\n",
        "\n",
        "#test bigram function\n",
        "line = \"wrote big brother, whether refrained writing it, made\"\n",
        "bigram(line)"
      ],
      "metadata": {
        "colab": {
          "base_uri": "https://localhost:8080/"
        },
        "id": "q9XTUrkVCaNw",
        "outputId": "f3552e78-5da7-4228-c10f-068649c0c12c"
      },
      "id": "q9XTUrkVCaNw",
      "execution_count": 2,
      "outputs": [
        {
          "output_type": "execute_result",
          "data": {
            "text/plain": [
              "[(('wrote', 'big'), 1),\n",
              " (('big', 'brother,'), 1),\n",
              " (('brother,', 'whether'), 1),\n",
              " (('whether', 'refrained'), 1),\n",
              " (('refrained', 'writing'), 1),\n",
              " (('writing', 'it,'), 1),\n",
              " (('it,', 'made'), 1)]"
            ]
          },
          "metadata": {},
          "execution_count": 2
        }
      ]
    },
    {
      "cell_type": "code",
      "source": [
        "text_rdd = sc.textFile(text_file)\n",
        "\n",
        "bigram_rdd = text_rdd.flatMap(bigram) \n",
        "bigram_counts= bigram_rdd.reduceByKey(lambda a, b: a + b)\n",
        "bigram_counts.sortBy(lambda r: r[1],ascending=False).take(5)"
      ],
      "metadata": {
        "colab": {
          "base_uri": "https://localhost:8080/"
        },
        "id": "UOx29kTKCoyJ",
        "outputId": "ab3c4ecf-9cfe-4989-d666-ccf87e0c2615"
      },
      "id": "UOx29kTKCoyJ",
      "execution_count": 8,
      "outputs": [
        {
          "output_type": "execute_result",
          "data": {
            "text/plain": [
              "[(('big', 'brother'), 67),\n",
              " (('said', 'winston'), 43),\n",
              " (('old', 'man'), 38),\n",
              " (('thought', 'police'), 38),\n",
              " (('said', \"o'brien\"), 37)]"
            ]
          },
          "metadata": {},
          "execution_count": 8
        }
      ]
    },
    {
      "cell_type": "markdown",
      "id": "russian-disney",
      "metadata": {
        "id": "russian-disney"
      },
      "source": [
        "#### Q2. Find out the year with most Sci-Fi movies released."
      ]
    },
    {
      "cell_type": "code",
      "execution_count": 10,
      "id": "neutral-authority",
      "metadata": {
        "colab": {
          "base_uri": "https://localhost:8080/"
        },
        "id": "neutral-authority",
        "outputId": "2a69ef1d-a2b0-4d51-f8a2-55daca15075a"
      },
      "outputs": [
        {
          "output_type": "execute_result",
          "data": {
            "text/plain": [
              "[('2013', 1)]"
            ]
          },
          "metadata": {},
          "execution_count": 10
        }
      ],
      "source": [
        "genre=\"Sci-Fi\"\n",
        "def filterGenreYear(record):\n",
        "    \"\"\" This function filters all movies in  genre  \n",
        "        and returns a tuple (year, 1), \n",
        "        indicating 1 sci-fi movie in this year.\n",
        "    \"\"\"\n",
        "    for row in csv.reader([record]):\n",
        "        if len(row) != 3:\n",
        "            return []\n",
        "        if genre in row[2]:\n",
        "            title = row[1].strip()\n",
        "            year = title[len(title)-5:len(title)-1]\n",
        "            return [(year,1)]\n",
        "        else:\n",
        "            return []\n",
        "# check function output\n",
        "record = \"111235,Jodorowsky's Dune (2013) ,Documentary|Sci-Fi\"\n",
        "filterGenreYear(record)"
      ]
    },
    {
      "cell_type": "code",
      "execution_count": 12,
      "id": "straight-mechanism",
      "metadata": {
        "colab": {
          "base_uri": "https://localhost:8080/"
        },
        "id": "straight-mechanism",
        "outputId": "9bad9d3f-4968-436b-c147-25ec9a2f9178"
      },
      "outputs": [
        {
          "output_type": "execute_result",
          "data": {
            "text/plain": [
              "[('2009', 49)]"
            ]
          },
          "metadata": {},
          "execution_count": 12
        }
      ],
      "source": [
        "from operator import add\n",
        "movieData = sc.textFile(movie_file)\n",
        "movieData.flatMap(filterGenreYear) \\\n",
        "    .reduceByKey(add) \\\n",
        "    .sortBy(lambda r: r[1],ascending=False) \\\n",
        "    .take(1)"
      ]
    }
  ],
  "metadata": {
    "kernelspec": {
      "display_name": "Python 3",
      "language": "python",
      "name": "python3"
    },
    "language_info": {
      "codemirror_mode": {
        "name": "ipython",
        "version": 3
      },
      "file_extension": ".py",
      "mimetype": "text/x-python",
      "name": "python",
      "nbconvert_exporter": "python",
      "pygments_lexer": "ipython3",
      "version": "3.8.8"
    },
    "colab": {
      "name": "week6_solution.ipynb",
      "provenance": []
    }
  },
  "nbformat": 4,
  "nbformat_minor": 5
}