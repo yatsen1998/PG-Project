{
 "cells": [
  {
   "cell_type": "markdown",
   "id": "06177f5a",
   "metadata": {},
   "source": [
    "# Install Dependencies"
   ]
  },
  {
   "cell_type": "code",
   "execution_count": 4,
   "id": "d2fd93cf",
   "metadata": {},
   "outputs": [
    {
     "name": "stdout",
     "output_type": "stream",
     "text": [
      "Requirement already satisfied: pyspark in /Users/evanxu/opt/anaconda3/lib/python3.9/site-packages (3.2.1)\r\n",
      "Requirement already satisfied: py4j==0.10.9.3 in /Users/evanxu/opt/anaconda3/lib/python3.9/site-packages (from pyspark) (0.10.9.3)\r\n"
     ]
    }
   ],
   "source": [
    "!pip install pyspark"
   ]
  },
  {
   "cell_type": "markdown",
   "id": "bd0a9bd5",
   "metadata": {},
   "source": [
    "# Read Json"
   ]
  },
  {
   "cell_type": "code",
   "execution_count": 5,
   "id": "882aaf81",
   "metadata": {},
   "outputs": [],
   "source": [
    "from pyspark.sql import SparkSession\n",
    "spark = SparkSession \\\n",
    "    .builder \\\n",
    "    .appName(\"COMP5349 A2 Data Loading\") \\\n",
    "    .getOrCreate()\n",
    "\n",
    "data = \"Assignment_2_data/test.json\"\n",
    "init_df = spark.read.json(data)"
   ]
  },
  {
   "cell_type": "code",
   "execution_count": 6,
   "id": "43156913",
   "metadata": {},
   "outputs": [],
   "source": [
    "from pyspark.sql.functions import explode\n",
    "from pyspark.sql.functions import udf\n",
    "\n",
    "data_df= init_df.select((explode(\"data\").alias('data')))\n",
    "paragraph_df = data_df.select(explode(\"data.paragraphs\").alias(\"paragraph\"))\n",
    "\n",
    "# data_df.printSchema()\n",
    "# paragraph_df.printSchema()\n",
    "# paragraph_df.show(5)"
   ]
  },
  {
   "cell_type": "code",
   "execution_count": 7,
   "id": "38062962",
   "metadata": {},
   "outputs": [],
   "source": [
    "paragraph_unrolled_df = paragraph_df.select(\"paragraph.context\" , explode(\"paragraph.qas\").alias(\"qas\")) \\\n",
    "                                    .select(\"context\", \"qas.id\", \"qas.question\", \"qas.is_impossible\", explode(\"qas.answers\").alias(\"answer\")) \\\n",
    "                                    .select(\"context\", \"id\", \"question\", \"is_impossible\", \"answer.answer_start\", \"answer.text\")\n",
    "\n",
    "# paragraph_unrolled_df.show(5)\n",
    "# paragraph_unrolled_df.printSchema()"
   ]
  },
  {
   "cell_type": "code",
   "execution_count": 8,
   "id": "56c03d45",
   "metadata": {
    "scrolled": true
   },
   "outputs": [],
   "source": [
    "import re\n",
    "from pyspark.sql.types import ArrayType, StringType\n",
    "\n",
    "@udf(returnType = ArrayType(StringType()))\n",
    "def segmentContext(str):\n",
    "    res = [str[i:i+512] for i in range(0, len(str)-256, 256)]\n",
    "    return res\n",
    "\n",
    "# res = segmentContext(\"1111122222\\n\\n\\n\\n\\n333334444455\")\n",
    "# print(res)\n",
    "\n",
    "paragraph_preproc_df = paragraph_unrolled_df.withColumn(\"sequence\", explode(segmentContext(\"context\"))).drop(\"context\")"
   ]
  },
  {
   "cell_type": "code",
   "execution_count": null,
   "id": "ae165356",
   "metadata": {},
   "outputs": [
    {
     "name": "stderr",
     "output_type": "stream",
     "text": [
      "\r",
      "[Stage 2:>                                                          (0 + 1) / 1]\r"
     ]
    }
   ],
   "source": [
    "positive_sample_df = paragraph_preproc_df.filter(\"is_impossible=False\")\n",
    "positive_sample_df.show(5)"
   ]
  },
  {
   "cell_type": "code",
   "execution_count": null,
   "id": "c5f8e9b7",
   "metadata": {},
   "outputs": [],
   "source": []
  }
 ],
 "metadata": {
  "kernelspec": {
   "display_name": "Python 3 (ipykernel)",
   "language": "python",
   "name": "python3"
  },
  "language_info": {
   "codemirror_mode": {
    "name": "ipython",
    "version": 3
   },
   "file_extension": ".py",
   "mimetype": "text/x-python",
   "name": "python",
   "nbconvert_exporter": "python",
   "pygments_lexer": "ipython3",
   "version": "3.9.7"
  }
 },
 "nbformat": 4,
 "nbformat_minor": 5
}
