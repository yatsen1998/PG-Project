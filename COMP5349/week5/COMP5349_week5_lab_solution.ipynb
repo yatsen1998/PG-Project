{
  "nbformat": 4,
  "nbformat_minor": 0,
  "metadata": {
    "colab": {
      "name": "COMP5349_week5_lab_solution.ipynb",
      "provenance": []
    },
    "kernelspec": {
      "name": "python3",
      "display_name": "Python 3"
    },
    "language_info": {
      "name": "python"
    }
  },
  "cells": [
    {
      "cell_type": "code",
      "execution_count": 1,
      "metadata": {
        "colab": {
          "base_uri": "https://localhost:8080/"
        },
        "id": "sI4DrB-77M2s",
        "outputId": "018e4088-38c6-4df6-ef40-8a0445bab2be"
      },
      "outputs": [
        {
          "output_type": "stream",
          "name": "stdout",
          "text": [
            "Collecting pyspark\n",
            "  Downloading pyspark-3.2.1.tar.gz (281.4 MB)\n",
            "\u001b[K     |████████████████████████████████| 281.4 MB 34 kB/s \n",
            "\u001b[?25hCollecting py4j==0.10.9.3\n",
            "  Downloading py4j-0.10.9.3-py2.py3-none-any.whl (198 kB)\n",
            "\u001b[K     |████████████████████████████████| 198 kB 50.6 MB/s \n",
            "\u001b[?25hBuilding wheels for collected packages: pyspark\n",
            "  Building wheel for pyspark (setup.py) ... \u001b[?25l\u001b[?25hdone\n",
            "  Created wheel for pyspark: filename=pyspark-3.2.1-py2.py3-none-any.whl size=281853642 sha256=5531dbadde2207da79971ede4cda93eba4fd8fe90961499ec75a2c5d560af865\n",
            "  Stored in directory: /root/.cache/pip/wheels/9f/f5/07/7cd8017084dce4e93e84e92efd1e1d5334db05f2e83bcef74f\n",
            "Successfully built pyspark\n",
            "Installing collected packages: py4j, pyspark\n",
            "Successfully installed py4j-0.10.9.3 pyspark-3.2.1\n"
          ]
        }
      ],
      "source": [
        "!pip install pyspark"
      ]
    },
    {
      "cell_type": "code",
      "source": [
        "from google.colab import drive\n",
        "drive.mount('/content/drive')"
      ],
      "metadata": {
        "colab": {
          "base_uri": "https://localhost:8080/"
        },
        "id": "wAWHmhp67iN_",
        "outputId": "939dad4d-1d29-45da-d0e0-f5808b13afc2"
      },
      "execution_count": 3,
      "outputs": [
        {
          "output_type": "stream",
          "name": "stdout",
          "text": [
            "Mounted at /content/drive\n"
          ]
        }
      ]
    },
    {
      "cell_type": "code",
      "source": [
        "from pyspark import SparkConf, SparkContext\n",
        "import csv\n",
        "\n",
        "spark_conf = SparkConf()\\\n",
        "        .setAppName(\"Week 5 Lab Solution\")\n",
        "sc=SparkContext.getOrCreate(spark_conf) "
      ],
      "metadata": {
        "id": "-txDvvoh7lG-"
      },
      "execution_count": 8,
      "outputs": []
    },
    {
      "cell_type": "code",
      "source": [
        "input_path = \"file:///content/drive/MyDrive/comp5349/\"\n",
        "ratings = sc.textFile(input_path + \"ratings.csv\")\n",
        "movieData = sc.textFile(input_path + \"movies.csv\")"
      ],
      "metadata": {
        "id": "Qs_1wB2t8gy7"
      },
      "execution_count": 9,
      "outputs": []
    },
    {
      "cell_type": "markdown",
      "source": [
        "##  Exercise 1\n",
        "Find all movies without a genre listed and print out the id of the movies. The data set has a special name `(no genres listed)` for such case. You may hard code the genre name in functions."
      ],
      "metadata": {
        "id": "gGwEN5il7VSX"
      }
    },
    {
      "cell_type": "code",
      "source": [
        "gname = '(no genres listed)'\n",
        "def mapGenres(record):    \n",
        "    for row in csv.reader([record]):\n",
        "        if len(row) < 3:   \n",
        "            return []\n",
        "        else:\n",
        "            movieId,genres = row[0],row[2]\n",
        "            if gname in genres:\n",
        "                return [movieId] # row[0] contains movie ids no genre\n",
        "            else:\n",
        "                return []\n",
        "noGenreMovies = movieData.flatMap(mapGenres)\n",
        "ngmovie = noGenreMovies.collect()\n",
        "ngmovie"
      ],
      "metadata": {
        "colab": {
          "base_uri": "https://localhost:8080/"
        },
        "id": "nZL0XZZ27oHn",
        "outputId": "c905923b-3f8f-44d9-d7b9-7ee83b918dfa"
      },
      "execution_count": 10,
      "outputs": [
        {
          "output_type": "execute_result",
          "data": {
            "text/plain": [
              "['126929', '135460', '138863', '141305', '141472', '143709', '149532']"
            ]
          },
          "metadata": {},
          "execution_count": 10
        }
      ]
    },
    {
      "cell_type": "markdown",
      "source": [
        "## Exercise 2\n",
        "\n",
        "Find the top 5 movies in `Documentary` genre based on the number of ratings a movie received. You may hard code the genre name in functions."
      ],
      "metadata": {
        "id": "y6rhJDd98Mrp"
      }
    },
    {
      "cell_type": "code",
      "source": [
        "def filterMovieInGenre(record):\n",
        "    \"\"\"This function filters entries of movies.csv based on genre list\n",
        "    It only keeps movie id with genre list containing the given genre.\n",
        "    The given genre name is defined outside as genre and will be packed as closure. \n",
        "    Args:\n",
        "        record (str): A row of CSV file, with three columns separated by comma\n",
        "    Returns:\n",
        "        [(movieID, title)] if the movie belongs to the given genre, [] otherwise \n",
        "    \"\"\"\n",
        "    for row in csv.reader([record]):\n",
        "        if len(row) != 3:\n",
        "            continue\n",
        "        movieID, title, genreList = row[0],row[1], row[2]\n",
        "        genres = genreList.split('|')\n",
        "        if genre in genres:\n",
        "            return [(movieID, title)]\n",
        "        else:\n",
        "            return []\n",
        "\n",
        "def extractRating(record):\n",
        "    \"\"\" This function converts entries of ratings.csv into key,value pair of the following format\n",
        "    (movieID, rating)\n",
        "    Args:\n",
        "        record (str): A row of CSV file, with four columns separated by comma\n",
        "    Returns:\n",
        "        The return value is a tuple (movieID, genre)\n",
        "    \"\"\"\n",
        "    try:\n",
        "        userID, movieID, rating, timestamp = record.split(\",\")\n",
        "        rating = float(rating)\n",
        "        return (movieID, rating)\n",
        "    except:\n",
        "        return ()"
      ],
      "metadata": {
        "id": "ImYjMXej89xQ"
      },
      "execution_count": 16,
      "outputs": []
    },
    {
      "cell_type": "code",
      "source": [
        "genre = 'Documentary'\n",
        "moviesInGenre = movieData.flatMap(filterMovieInGenre)"
      ],
      "metadata": {
        "id": "4xv5BTEA_2_w"
      },
      "execution_count": 17,
      "outputs": []
    },
    {
      "cell_type": "code",
      "source": [
        "movieRatings = ratings.map(extractRating)\n",
        "movieRatingsInGenre = moviesInGenre.join(movieRatings)\n",
        "#countByKey() is an action returning a list, instead of an RDD\n",
        "#After values(), the key becomes title\n",
        "movieRatingCount = movieRatingsInGenre.values().countByKey().items()\n",
        "#the list can be sorted and limited using Python feature directly\n",
        "#we convert the list into an RDD to utilize Spark features\n",
        "\n",
        "results = sc.parallelize(movieRatingCount) \\\n",
        "                        .sortBy(lambda r: r[1],ascending=False) \\\n",
        "                        .take(5)\n",
        "print(results)"
      ],
      "metadata": {
        "colab": {
          "base_uri": "https://localhost:8080/"
        },
        "id": "B2E_Z8dE_68C",
        "outputId": "c8ebbc9c-ce96-477d-dbd1-e86532e6cec4"
      },
      "execution_count": 20,
      "outputs": [
        {
          "output_type": "stream",
          "name": "stdout",
          "text": [
            "[('Bowling for Columbine (2002)', 51), ('Hoop Dreams (1994)', 36), ('Roger & Me (1989)', 35), ('Super Size Me (2004)', 33), ('Fahrenheit 9/11 (2004)', 33)]\n"
          ]
        }
      ]
    },
    {
      "cell_type": "markdown",
      "source": [
        "## Exercise 3\n",
        "Find the top 5 genre pairs co-occur most in the data set. Many movies can be classified into more than one genre. "
      ],
      "metadata": {
        "id": "OBQsrcmpARg0"
      }
    },
    {
      "cell_type": "code",
      "source": [
        "\"\"\"\n",
        "This module includes a few functions used in computing average rating per genre\n",
        "\"\"\"\n",
        "def getGenrePairs(record):\n",
        "    \"\"\"This function converts entries of movies.csv into ((g1,g2),1) pair for all genres \n",
        "    appearing in the row. \n",
        "    since there may be multiple genre per movie, this function returns a list of tuples\n",
        "    Args:\n",
        "        record (str): A row of CSV file, with three columns separated by comma\n",
        "    Returns:\n",
        "        The return value is a list of tuples, each tuple contains ((g1,g2), 1)\n",
        "    \"\"\"\n",
        "    for row in csv.reader([record]):\n",
        "        if len(row) != 3:\n",
        "            return []\n",
        "        genre_list = row[2].split(\"|\")\n",
        "        g = len(genre_list)\n",
        "        if g<2 : #single genre case\n",
        "            return []\n",
        "        # at least two genre case\n",
        "        results = []\n",
        "        sorted_glist = sorted(genre_list) # sort by aphabet order\n",
        "\n",
        "        for i in range(g): \n",
        "            for j in range(i+1,g): # from 1 to last\n",
        "                results.append(((sorted_glist[i],sorted_glist[j]),1))\n",
        "        return results"
      ],
      "metadata": {
        "id": "W7fNyTBbAQoB"
      },
      "execution_count": 21,
      "outputs": []
    },
    {
      "cell_type": "code",
      "source": [
        "movieData.flatMap(getGenrePairs)\\\n",
        "    .reduceByKey(lambda a,b:a+b) \\\n",
        "    .sortBy(lambda r: r[1],ascending=False).take(5)"
      ],
      "metadata": {
        "colab": {
          "base_uri": "https://localhost:8080/"
        },
        "id": "y5XAIJjWD3hI",
        "outputId": "089a221b-fec8-44f2-93e5-6692a24dd923"
      },
      "execution_count": 22,
      "outputs": [
        {
          "output_type": "execute_result",
          "data": {
            "text/plain": [
              "[(('Drama', 'Romance'), 1096),\n",
              " (('Comedy', 'Drama'), 1039),\n",
              " (('Drama', 'Thriller'), 1016),\n",
              " (('Comedy', 'Romance'), 892),\n",
              " (('Crime', 'Drama'), 841)]"
            ]
          },
          "metadata": {},
          "execution_count": 22
        }
      ]
    }
  ]
}